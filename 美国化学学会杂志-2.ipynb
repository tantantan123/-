{
 "cells": [
  {
   "cell_type": "markdown",
   "metadata": {},
   "source": [
    "## 小象学院课程\n",
    "## Pyhton数据分析\n",
    "## 美国化学学会杂志-2\n",
    "“美国化学学会杂志”是美国化学学会出版的首要期刊，也是所有化学领域排名最高的期刊之一。本项目的数据集是该期刊从1996到2016的论文集,用以分析作者发表论文的情况。"
   ]
  },
  {
   "cell_type": "markdown",
   "metadata": {},
   "source": [
    "> **提示**：<br>\n",
    "1、这样的文字将会指导你如何使用 jupyter Notebook 来完成项目。<br>\n",
    "2、你可以通过单击代码区域，然后使用键盘快捷键 Shift+Enter 或 Shift+Return 来运行代码。或者在选择代码后使用执行（run cell）按钮执行代码。Markdown的文字区域也同样可以如此操作。<br>\n",
    "3、在如下有# TODO 提示的地方，将代码补全，实现注释中所要求的功能。<br>\n",
    "4、在有\"** 回答：**\" 提示的地方，回答其上所提出的问题。<br>\n"
   ]
  },
  {
   "cell_type": "markdown",
   "metadata": {},
   "source": [
    "### 项目数据集介绍：\n",
    "数据库对于数据分析是非常重要的，它可以存储大量有某种关系的表，通过对表进行连接操作，以实现对数据的潜在分析。\n",
    "本项目采用的数据集以sqlite的方式进行存储，数据集中包括三个表：\n",
    "* Authors：对作者进行描述\n",
    "* Paper_Authors：对作者发表论文的情况进行描述\n",
    "* Papers：关于论文的表"
   ]
  },
  {
   "cell_type": "markdown",
   "metadata": {},
   "source": [
    "## 分析流程\n",
    "这个作业的数据是基于上个作业存入的数据，作业偏向于对数据的处理了，让我们开始进阶吧。<br>\n",
    "1 导入数据：获得作者的ID号列表和对应的论文数量<br>\n",
    "2 分析论文的浏览次数：依据得到的作者的ID号列表，分析每个作者的论文被浏览次数，比如，浏览的总次数、浏览的平均次数、浏览的最多次数、浏览的最少次数<br>\n",
    "3 分析发表论文的日期：依据作者的ID号列表，计算作者每年发表的论文次数，得到论文次数最多的年份，当论文次数最多的年份存在多个时，则保留最近的年份，同时，保留该年份对应的论文数量<br>\n",
    "4 合并数据，存入文件：将作者ID号列表、论文数量、浏览次数、论文发表日期进行合并，将数据存入txt文件<br>"
   ]
  },
  {
   "cell_type": "markdown",
   "metadata": {},
   "source": [
    "### 导入数据"
   ]
  },
  {
   "cell_type": "markdown",
   "metadata": {},
   "source": [
    "导入必备的Python库"
   ]
  },
  {
   "cell_type": "code",
   "execution_count": 48,
   "metadata": {},
   "outputs": [],
   "source": [
    "import sqlite3\n",
    "import json\n",
    "import datetime\n",
    "import numpy as np\n",
    "import pandas as pd"
   ]
  },
  {
   "cell_type": "markdown",
   "metadata": {},
   "source": [
    "在上个作业中，我们已经得到了关于每个作者的ID号、名字和发表的论文数量的数据，现在我们导入上个作业保存的json数据，得到该作业的ID号列表和作者对应的论文数量。"
   ]
  },
  {
   "cell_type": "code",
   "execution_count": 49,
   "metadata": {
    "scrolled": false
   },
   "outputs": [
    {
     "name": "stdout",
     "output_type": "stream",
     "text": [
      "[{'author_name': 'James Snyder', 'author_id': 5, 'papers_num': 30}, {'author_name': 'Kenneth Karlin', 'author_id': 18, 'papers_num': 75}, {'author_name': 'Per-Ola Norrby', 'author_id': 20, 'papers_num': 27}, {'author_name': 'K. Sharpless', 'author_id': 22, 'papers_num': 23}, {'author_name': 'M. Ghadiri', 'author_id': 26, 'papers_num': 27}, {'author_name': 'Kurt Gothelf', 'author_id': 29, 'papers_num': 21}, {'author_name': 'Karl Jørgensen', 'author_id': 31, 'papers_num': 43}, {'author_name': 'Ivano Bertini', 'author_id': 48, 'papers_num': 46}, {'author_name': 'Claudio Luchinat', 'author_id': 53, 'papers_num': 40}, {'author_name': 'Michael Wasielewski', 'author_id': 57, 'papers_num': 121}, {'author_name': 'Robert Grubbs', 'author_id': 64, 'papers_num': 93}, {'author_name': 'Joseph Ziller', 'author_id': 65, 'papers_num': 58}, {'author_name': 'Jay Winkler', 'author_id': 69, 'papers_num': 39}, {'author_name': 'Harry Gray', 'author_id': 70, 'papers_num': 72}, {'author_name': 'Stephen Lippard', 'author_id': 73, 'papers_num': 137}, {'author_name': 'Brian Hoffman', 'author_id': 74, 'papers_num': 117}, {'author_name': 'Atsuhiro Osuka', 'author_id': 79, 'papers_num': 79}, {'author_name': 'Fernando Bernardi', 'author_id': 89, 'papers_num': 25}, {'author_name': 'Massimo Olivucci', 'author_id': 91, 'papers_num': 45}, {'author_name': 'Michael Robb', 'author_id': 92, 'papers_num': 40}]\n",
      "[[5, 30], [18, 75], [20, 27], [22, 23], [26, 27], [29, 21], [31, 43], [48, 46], [53, 40], [57, 121], [64, 93], [65, 58], [69, 39], [70, 72], [73, 137], [74, 117], [79, 79], [89, 25], [91, 45], [92, 40]]\n"
     ]
    }
   ],
   "source": [
    "# author_paper_data的每个元素列表，比如[5, 30]中的第一个元素代表了作者authorID号，第二个元素表示该作者发表的论文数量\n",
    "author_paper_data = []\n",
    "file_path = './dataFile/author_paper_data.json'\n",
    "with open(file_path,'r') as f_obj:\n",
    "    # TODO\n",
    "    # 使用json模块导入上个作业保存的数据，得到的数据的ID号和发表的论文数量，将最终结果存储在author_paper_data列表中，\n",
    "    load_dict=json.load(f_obj)\n",
    "print(load_dict)\n",
    "for item in load_dict:\n",
    "    list1=[]\n",
    "    list1.append(item['author_id'])\n",
    "    list1.append(item['papers_num'])\n",
    "    author_paper_data.append(list1)\n",
    "authors_id,papers_num = zip(*author_paper_data)\n",
    "print(author_paper_data)"
   ]
  },
  {
   "cell_type": "markdown",
   "metadata": {},
   "source": [
    "连接数据库，得到游标"
   ]
  },
  {
   "cell_type": "code",
   "execution_count": 50,
   "metadata": {},
   "outputs": [],
   "source": [
    "def connect_sqlite(sqlite_path):\n",
    "    conn = sqlite3.connect(sqlite_path)\n",
    "    conn.row_factory = sqlite3.Row \n",
    "    cur = conn.cursor()\n",
    "    return conn, cur\n",
    "\n",
    "conn, cur = connect_sqlite(\"./dataFile/database.sqlite\")"
   ]
  },
  {
   "cell_type": "markdown",
   "metadata": {},
   "source": [
    "### 得到每个作者的论文信息\n",
    "* 根据authorID，将Papers和Paper_Authors表中的paperID进行内连接，获得每个authorID在papers表对应paper信息，在后面需要根据得到的paper信息进行论文浏览次数和论文发表日期的分析。"
   ]
  },
  {
   "cell_type": "code",
   "execution_count": 51,
   "metadata": {},
   "outputs": [
    {
     "name": "stdout",
     "output_type": "stream",
     "text": [
      "authorID号是: 5 论文数量paper_num是: 30\n",
      "authorID号是: 18 论文数量paper_num是: 75\n",
      "authorID号是: 20 论文数量paper_num是: 27\n",
      "authorID号是: 22 论文数量paper_num是: 23\n",
      "authorID号是: 26 论文数量paper_num是: 27\n",
      "authorID号是: 29 论文数量paper_num是: 21\n",
      "authorID号是: 31 论文数量paper_num是: 43\n",
      "authorID号是: 48 论文数量paper_num是: 46\n",
      "authorID号是: 53 论文数量paper_num是: 40\n",
      "authorID号是: 57 论文数量paper_num是: 121\n",
      "authorID号是: 64 论文数量paper_num是: 93\n",
      "authorID号是: 65 论文数量paper_num是: 58\n",
      "authorID号是: 69 论文数量paper_num是: 39\n",
      "authorID号是: 70 论文数量paper_num是: 72\n",
      "authorID号是: 73 论文数量paper_num是: 137\n",
      "authorID号是: 74 论文数量paper_num是: 117\n",
      "authorID号是: 79 论文数量paper_num是: 79\n",
      "authorID号是: 89 论文数量paper_num是: 25\n",
      "authorID号是: 91 论文数量paper_num是: 45\n",
      "authorID号是: 92 论文数量paper_num是: 40\n",
      "{5: [<sqlite3.Row object at 0x00000238C565DAF0>, <sqlite3.Row object at 0x00000238C5604070>, <sqlite3.Row object at 0x00000238C5604170>, <sqlite3.Row object at 0x00000238C5604230>, <sqlite3.Row object at 0x00000238C56042F0>, <sqlite3.Row object at 0x00000238C5604F90>, <sqlite3.Row object at 0x00000238C56043F0>, <sqlite3.Row object at 0x00000238C56044B0>, <sqlite3.Row object at 0x00000238C5604610>, <sqlite3.Row object at 0x00000238C56046D0>, <sqlite3.Row object at 0x00000238C5604790>, <sqlite3.Row object at 0x00000238C5604850>, <sqlite3.Row object at 0x00000238C5604910>, <sqlite3.Row object at 0x00000238C56048F0>, <sqlite3.Row object at 0x00000238C56049B0>, <sqlite3.Row object at 0x00000238C5604A70>, <sqlite3.Row object at 0x00000238C5604B30>, <sqlite3.Row object at 0x00000238C5604BD0>, <sqlite3.Row object at 0x00000238C5604C90>, <sqlite3.Row object at 0x00000238C5604D30>, <sqlite3.Row object at 0x00000238C5604DF0>, <sqlite3.Row object at 0x00000238C5604EB0>, <sqlite3.Row object at 0x00000238C54846F0>, <sqlite3.Row object at 0x00000238C5484970>, <sqlite3.Row object at 0x00000238C5484690>, <sqlite3.Row object at 0x00000238C54842D0>, <sqlite3.Row object at 0x00000238C54849D0>, <sqlite3.Row object at 0x00000238C5484AD0>, <sqlite3.Row object at 0x00000238C5484C30>, <sqlite3.Row object at 0x00000238C5484CD0>], 18: [<sqlite3.Row object at 0x00000238C5484C50>, <sqlite3.Row object at 0x00000238C5484DB0>, <sqlite3.Row object at 0x00000238C5484E30>, <sqlite3.Row object at 0x00000238C5484EF0>, <sqlite3.Row object at 0x00000238C5484FB0>, <sqlite3.Row object at 0x00000238C5484E50>, <sqlite3.Row object at 0x00000238C57FC510>, <sqlite3.Row object at 0x00000238C57FC5D0>, <sqlite3.Row object at 0x00000238C57FC690>, <sqlite3.Row object at 0x00000238C57FC750>, <sqlite3.Row object at 0x00000238C57FC810>, <sqlite3.Row object at 0x00000238C57FC8D0>, <sqlite3.Row object at 0x00000238C57FC990>, <sqlite3.Row object at 0x00000238C57FCA50>, <sqlite3.Row object at 0x00000238C57FCB10>, <sqlite3.Row object at 0x00000238C57FCBD0>, <sqlite3.Row object at 0x00000238C57FCC90>, <sqlite3.Row object at 0x00000238C57FCD50>, <sqlite3.Row object at 0x00000238C57FCE10>, <sqlite3.Row object at 0x00000238C57FCED0>, <sqlite3.Row object at 0x00000238C57FCF90>, <sqlite3.Row object at 0x00000238C561F090>, <sqlite3.Row object at 0x00000238C561F150>, <sqlite3.Row object at 0x00000238C561F210>, <sqlite3.Row object at 0x00000238C561F2D0>, <sqlite3.Row object at 0x00000238C561F390>, <sqlite3.Row object at 0x00000238C561F450>, <sqlite3.Row object at 0x00000238C561F510>, <sqlite3.Row object at 0x00000238C561F5D0>, <sqlite3.Row object at 0x00000238C561F690>, <sqlite3.Row object at 0x00000238C561F750>, <sqlite3.Row object at 0x00000238C561F810>, <sqlite3.Row object at 0x00000238C561F8D0>, <sqlite3.Row object at 0x00000238C561F990>, <sqlite3.Row object at 0x00000238C561FA50>, <sqlite3.Row object at 0x00000238C561FB10>, <sqlite3.Row object at 0x00000238C561FBD0>, <sqlite3.Row object at 0x00000238C561FC90>, <sqlite3.Row object at 0x00000238C561FD50>, <sqlite3.Row object at 0x00000238C561FE10>, <sqlite3.Row object at 0x00000238C561FED0>, <sqlite3.Row object at 0x00000238C561FF90>, <sqlite3.Row object at 0x00000238C5614090>, <sqlite3.Row object at 0x00000238C5614150>, <sqlite3.Row object at 0x00000238C5614210>, <sqlite3.Row object at 0x00000238C56142D0>, <sqlite3.Row object at 0x00000238C5614390>, <sqlite3.Row object at 0x00000238C5614450>, <sqlite3.Row object at 0x00000238C5614510>, <sqlite3.Row object at 0x00000238C56145D0>, <sqlite3.Row object at 0x00000238C5614690>, <sqlite3.Row object at 0x00000238C5614750>, <sqlite3.Row object at 0x00000238C5614810>, <sqlite3.Row object at 0x00000238C56148D0>, <sqlite3.Row object at 0x00000238C5614990>, <sqlite3.Row object at 0x00000238C5614A50>, <sqlite3.Row object at 0x00000238C5614B10>, <sqlite3.Row object at 0x00000238C5614BD0>, <sqlite3.Row object at 0x00000238C5614C90>, <sqlite3.Row object at 0x00000238C5614D50>, <sqlite3.Row object at 0x00000238C5614E10>, <sqlite3.Row object at 0x00000238C5614ED0>, <sqlite3.Row object at 0x00000238C5614F90>, <sqlite3.Row object at 0x00000238C5628090>, <sqlite3.Row object at 0x00000238C5628150>, <sqlite3.Row object at 0x00000238C5628210>, <sqlite3.Row object at 0x00000238C56282D0>, <sqlite3.Row object at 0x00000238C5628390>, <sqlite3.Row object at 0x00000238C5628450>, <sqlite3.Row object at 0x00000238C5628510>, <sqlite3.Row object at 0x00000238C56285D0>, <sqlite3.Row object at 0x00000238C5628690>, <sqlite3.Row object at 0x00000238C5628750>, <sqlite3.Row object at 0x00000238C5628810>, <sqlite3.Row object at 0x00000238C56288D0>], 20: [<sqlite3.Row object at 0x00000238C56288F0>, <sqlite3.Row object at 0x00000238C56289F0>, <sqlite3.Row object at 0x00000238C5628A90>, <sqlite3.Row object at 0x00000238C5628B50>, <sqlite3.Row object at 0x00000238C5628BF0>, <sqlite3.Row object at 0x00000238C56289D0>, <sqlite3.Row object at 0x00000238C5628D50>, <sqlite3.Row object at 0x00000238C5628DF0>, <sqlite3.Row object at 0x00000238C5628EB0>, <sqlite3.Row object at 0x00000238C5628F70>, <sqlite3.Row object at 0x00000238C562D050>, <sqlite3.Row object at 0x00000238C562D110>, <sqlite3.Row object at 0x00000238C562D1D0>, <sqlite3.Row object at 0x00000238C562D290>, <sqlite3.Row object at 0x00000238C562D350>, <sqlite3.Row object at 0x00000238C562D410>, <sqlite3.Row object at 0x00000238C562D4D0>, <sqlite3.Row object at 0x00000238C562D590>, <sqlite3.Row object at 0x00000238C562D650>, <sqlite3.Row object at 0x00000238C562D710>, <sqlite3.Row object at 0x00000238C562D7D0>, <sqlite3.Row object at 0x00000238C562D890>, <sqlite3.Row object at 0x00000238C562D950>, <sqlite3.Row object at 0x00000238C562DA10>, <sqlite3.Row object at 0x00000238C562DAD0>, <sqlite3.Row object at 0x00000238C562DB90>, <sqlite3.Row object at 0x00000238C562DC50>], 22: [<sqlite3.Row object at 0x00000238C562DC70>, <sqlite3.Row object at 0x00000238C562DD70>, <sqlite3.Row object at 0x00000238C562DE50>, <sqlite3.Row object at 0x00000238C562DF10>, <sqlite3.Row object at 0x00000238C562DFD0>, <sqlite3.Row object at 0x00000238C562DD50>, <sqlite3.Row object at 0x00000238C562F150>, <sqlite3.Row object at 0x00000238C562F210>, <sqlite3.Row object at 0x00000238C562F3B0>, <sqlite3.Row object at 0x00000238C562F3D0>, <sqlite3.Row object at 0x00000238C562F490>, <sqlite3.Row object at 0x00000238C562F570>, <sqlite3.Row object at 0x00000238C562F610>, <sqlite3.Row object at 0x00000238C562F6D0>, <sqlite3.Row object at 0x00000238C562F790>, <sqlite3.Row object at 0x00000238C562F870>, <sqlite3.Row object at 0x00000238C562F930>, <sqlite3.Row object at 0x00000238C562F9F0>, <sqlite3.Row object at 0x00000238C562FAB0>, <sqlite3.Row object at 0x00000238C562FB70>, <sqlite3.Row object at 0x00000238C562FC30>, <sqlite3.Row object at 0x00000238C562FCF0>, <sqlite3.Row object at 0x00000238C562FDB0>], 26: [<sqlite3.Row object at 0x00000238C562FDD0>, <sqlite3.Row object at 0x00000238C562FED0>, <sqlite3.Row object at 0x00000238C562FFB0>, <sqlite3.Row object at 0x00000238C56090B0>, <sqlite3.Row object at 0x00000238C5609150>, <sqlite3.Row object at 0x00000238C562FF70>, <sqlite3.Row object at 0x00000238C56092B0>, <sqlite3.Row object at 0x00000238C5609370>, <sqlite3.Row object at 0x00000238C5609430>, <sqlite3.Row object at 0x00000238C56094F0>, <sqlite3.Row object at 0x00000238C56095B0>, <sqlite3.Row object at 0x00000238C5609670>, <sqlite3.Row object at 0x00000238C5609730>, <sqlite3.Row object at 0x00000238C56097F0>, <sqlite3.Row object at 0x00000238C56098B0>, <sqlite3.Row object at 0x00000238C5609970>, <sqlite3.Row object at 0x00000238C5609A30>, <sqlite3.Row object at 0x00000238C5609B10>, <sqlite3.Row object at 0x00000238C5609BD0>, <sqlite3.Row object at 0x00000238C5609C50>, <sqlite3.Row object at 0x00000238C5609D10>, <sqlite3.Row object at 0x00000238C5609DD0>, <sqlite3.Row object at 0x00000238C5609E90>, <sqlite3.Row object at 0x00000238C5609F50>, <sqlite3.Row object at 0x00000238C5608030>, <sqlite3.Row object at 0x00000238C5608190>, <sqlite3.Row object at 0x00000238C56081D0>], 29: [<sqlite3.Row object at 0x00000238C5608210>, <sqlite3.Row object at 0x00000238C56083D0>, <sqlite3.Row object at 0x00000238C5608430>, <sqlite3.Row object at 0x00000238C5608450>, <sqlite3.Row object at 0x00000238C5608510>, <sqlite3.Row object at 0x00000238C56082F0>, <sqlite3.Row object at 0x00000238C5608690>, <sqlite3.Row object at 0x00000238C5608750>, <sqlite3.Row object at 0x00000238C5608810>, <sqlite3.Row object at 0x00000238C56088D0>, <sqlite3.Row object at 0x00000238C5608990>, <sqlite3.Row object at 0x00000238C5608AF0>, <sqlite3.Row object at 0x00000238C5608B10>, <sqlite3.Row object at 0x00000238C5608BD0>, <sqlite3.Row object at 0x00000238C5608C90>, <sqlite3.Row object at 0x00000238C5608D50>, <sqlite3.Row object at 0x00000238C5608E10>, <sqlite3.Row object at 0x00000238C5608F70>, <sqlite3.Row object at 0x00000238C5608FB0>, <sqlite3.Row object at 0x00000238C56100B0>, <sqlite3.Row object at 0x00000238C5610170>], 31: [<sqlite3.Row object at 0x00000238C5610190>, <sqlite3.Row object at 0x00000238C5610290>, <sqlite3.Row object at 0x00000238C5610350>, <sqlite3.Row object at 0x00000238C5610410>, <sqlite3.Row object at 0x00000238C56104D0>, <sqlite3.Row object at 0x00000238C5610270>, <sqlite3.Row object at 0x00000238C5610630>, <sqlite3.Row object at 0x00000238C56106F0>, <sqlite3.Row object at 0x00000238C56107B0>, <sqlite3.Row object at 0x00000238C5610870>, <sqlite3.Row object at 0x00000238C5610930>, <sqlite3.Row object at 0x00000238C56109F0>, <sqlite3.Row object at 0x00000238C5610AB0>, <sqlite3.Row object at 0x00000238C5610B70>, <sqlite3.Row object at 0x00000238C5610C50>, <sqlite3.Row object at 0x00000238C5610D10>, <sqlite3.Row object at 0x00000238C5610DF0>, <sqlite3.Row object at 0x00000238C5610ED0>, <sqlite3.Row object at 0x00000238C5610F90>, <sqlite3.Row object at 0x00000238C5619090>, <sqlite3.Row object at 0x00000238C5619150>, <sqlite3.Row object at 0x00000238C5619210>, <sqlite3.Row object at 0x00000238C56192D0>, <sqlite3.Row object at 0x00000238C5619390>, <sqlite3.Row object at 0x00000238C5619450>, <sqlite3.Row object at 0x00000238C5619510>, <sqlite3.Row object at 0x00000238C56195D0>, <sqlite3.Row object at 0x00000238C5619690>, <sqlite3.Row object at 0x00000238C5619750>, <sqlite3.Row object at 0x00000238C5619810>, <sqlite3.Row object at 0x00000238C56198D0>, <sqlite3.Row object at 0x00000238C5619990>, <sqlite3.Row object at 0x00000238C5619A50>, <sqlite3.Row object at 0x00000238C5619B10>, <sqlite3.Row object at 0x00000238C5619BD0>, <sqlite3.Row object at 0x00000238C5619C90>, <sqlite3.Row object at 0x00000238C5619D50>, <sqlite3.Row object at 0x00000238C5619E10>, <sqlite3.Row object at 0x00000238C5619ED0>, <sqlite3.Row object at 0x00000238C5619F90>, <sqlite3.Row object at 0x00000238C5620090>, <sqlite3.Row object at 0x00000238C5620150>, <sqlite3.Row object at 0x00000238C5620210>], 48: [<sqlite3.Row object at 0x00000238C5620230>, <sqlite3.Row object at 0x00000238C56202F0>, <sqlite3.Row object at 0x00000238C56203B0>, <sqlite3.Row object at 0x00000238C5620450>, <sqlite3.Row object at 0x00000238C56204F0>, <sqlite3.Row object at 0x00000238C56202D0>, <sqlite3.Row object at 0x00000238C5620610>, <sqlite3.Row object at 0x00000238C56206B0>, <sqlite3.Row object at 0x00000238C5620770>, <sqlite3.Row object at 0x00000238C5620830>, <sqlite3.Row object at 0x00000238C56208D0>, <sqlite3.Row object at 0x00000238C5620990>, <sqlite3.Row object at 0x00000238C5620A50>, <sqlite3.Row object at 0x00000238C5620AF0>, <sqlite3.Row object at 0x00000238C5620BB0>, <sqlite3.Row object at 0x00000238C5620C70>, <sqlite3.Row object at 0x00000238C5620D30>, <sqlite3.Row object at 0x00000238C5620DF0>, <sqlite3.Row object at 0x00000238C5620EB0>, <sqlite3.Row object at 0x00000238C5620F50>, <sqlite3.Row object at 0x00000238C55F5050>, <sqlite3.Row object at 0x00000238C55F50D0>, <sqlite3.Row object at 0x00000238C55F5190>, <sqlite3.Row object at 0x00000238C55F5250>, <sqlite3.Row object at 0x00000238C55F5310>, <sqlite3.Row object at 0x00000238C55F53D0>, <sqlite3.Row object at 0x00000238C55F5490>, <sqlite3.Row object at 0x00000238C55F5550>, <sqlite3.Row object at 0x00000238C55F5610>, <sqlite3.Row object at 0x00000238C55F56D0>, <sqlite3.Row object at 0x00000238C55F5790>, <sqlite3.Row object at 0x00000238C55F5850>, <sqlite3.Row object at 0x00000238C55F5910>, <sqlite3.Row object at 0x00000238C55F59D0>, <sqlite3.Row object at 0x00000238C55F5A90>, <sqlite3.Row object at 0x00000238C55F5B50>, <sqlite3.Row object at 0x00000238C55F5C10>, <sqlite3.Row object at 0x00000238C55F5CD0>, <sqlite3.Row object at 0x00000238C55F5D90>, <sqlite3.Row object at 0x00000238C55F5E50>, <sqlite3.Row object at 0x00000238C55F5F10>, <sqlite3.Row object at 0x00000238C55F5FD0>, <sqlite3.Row object at 0x00000238C55FB0D0>, <sqlite3.Row object at 0x00000238C55FB190>, <sqlite3.Row object at 0x00000238C55FB250>, <sqlite3.Row object at 0x00000238C55FB310>], 53: [<sqlite3.Row object at 0x00000238C55FB330>, <sqlite3.Row object at 0x00000238C55FB3F0>, <sqlite3.Row object at 0x00000238C55FB4B0>, <sqlite3.Row object at 0x00000238C55FB550>, <sqlite3.Row object at 0x00000238C55FB5F0>, <sqlite3.Row object at 0x00000238C55FB3D0>, <sqlite3.Row object at 0x00000238C55FB710>, <sqlite3.Row object at 0x00000238C55FB7B0>, <sqlite3.Row object at 0x00000238C55FB850>, <sqlite3.Row object at 0x00000238C55FB910>, <sqlite3.Row object at 0x00000238C55FB9D0>, <sqlite3.Row object at 0x00000238C55FBA70>, <sqlite3.Row object at 0x00000238C55FBB30>, <sqlite3.Row object at 0x00000238C55FBBD0>, <sqlite3.Row object at 0x00000238C55FBC70>, <sqlite3.Row object at 0x00000238C55FBD30>, <sqlite3.Row object at 0x00000238C55FBDF0>, <sqlite3.Row object at 0x00000238C55FBEB0>, <sqlite3.Row object at 0x00000238C55FBF70>, <sqlite3.Row object at 0x00000238C553D070>, <sqlite3.Row object at 0x00000238C553D130>, <sqlite3.Row object at 0x00000238C553D1F0>, <sqlite3.Row object at 0x00000238C553D2B0>, <sqlite3.Row object at 0x00000238C553D370>, <sqlite3.Row object at 0x00000238C553D430>, <sqlite3.Row object at 0x00000238C553D4F0>, <sqlite3.Row object at 0x00000238C553D5B0>, <sqlite3.Row object at 0x00000238C553D670>, <sqlite3.Row object at 0x00000238C553D730>, <sqlite3.Row object at 0x00000238C553D7F0>, <sqlite3.Row object at 0x00000238C553D8B0>, <sqlite3.Row object at 0x00000238C553D970>, <sqlite3.Row object at 0x00000238C553DA30>, <sqlite3.Row object at 0x00000238C553DAF0>, <sqlite3.Row object at 0x00000238C553DBB0>, <sqlite3.Row object at 0x00000238C553DC70>, <sqlite3.Row object at 0x00000238C553DD30>, <sqlite3.Row object at 0x00000238C553DDF0>, <sqlite3.Row object at 0x00000238C553DEB0>, <sqlite3.Row object at 0x00000238C553DF70>], 57: [<sqlite3.Row object at 0x00000238C553DF90>, <sqlite3.Row object at 0x00000238C55620F0>, <sqlite3.Row object at 0x00000238C55621B0>, <sqlite3.Row object at 0x00000238C5562250>, <sqlite3.Row object at 0x00000238C5562310>, <sqlite3.Row object at 0x00000238C55620D0>, <sqlite3.Row object at 0x00000238C5562410>, <sqlite3.Row object at 0x00000238C55624D0>, <sqlite3.Row object at 0x00000238C5562590>, <sqlite3.Row object at 0x00000238C5562650>, <sqlite3.Row object at 0x00000238C55626F0>, <sqlite3.Row object at 0x00000238C5562750>, <sqlite3.Row object at 0x00000238C5562810>, <sqlite3.Row object at 0x00000238C55628D0>, <sqlite3.Row object at 0x00000238C5562970>, <sqlite3.Row object at 0x00000238C5562A10>, <sqlite3.Row object at 0x00000238C5562AD0>, <sqlite3.Row object at 0x00000238C5562B90>, <sqlite3.Row object at 0x00000238C5562C50>, <sqlite3.Row object at 0x00000238C5562D10>, <sqlite3.Row object at 0x00000238C5562DB0>, <sqlite3.Row object at 0x00000238C5562E70>, <sqlite3.Row object at 0x00000238C5562F30>, <sqlite3.Row object at 0x00000238C555AEB0>, <sqlite3.Row object at 0x00000238C555AE70>, <sqlite3.Row object at 0x00000238C555AF50>, <sqlite3.Row object at 0x00000238C555A030>, <sqlite3.Row object at 0x00000238C555A110>, <sqlite3.Row object at 0x00000238C555A1D0>, <sqlite3.Row object at 0x00000238C555A290>, <sqlite3.Row object at 0x00000238C555A350>, <sqlite3.Row object at 0x00000238C555A410>, <sqlite3.Row object at 0x00000238C555A5B0>, <sqlite3.Row object at 0x00000238C555A670>, <sqlite3.Row object at 0x00000238C555A690>, <sqlite3.Row object at 0x00000238C555A750>, <sqlite3.Row object at 0x00000238C555A810>, <sqlite3.Row object at 0x00000238C555A8D0>, <sqlite3.Row object at 0x00000238C555A990>, <sqlite3.Row object at 0x00000238C555AA50>, <sqlite3.Row object at 0x00000238C555AB10>, <sqlite3.Row object at 0x00000238C555ABD0>, <sqlite3.Row object at 0x00000238C555AC90>, <sqlite3.Row object at 0x00000238C555AD50>, <sqlite3.Row object at 0x00000238C5569F50>, <sqlite3.Row object at 0x00000238C5569030>, <sqlite3.Row object at 0x00000238C55690F0>, <sqlite3.Row object at 0x00000238C55691B0>, <sqlite3.Row object at 0x00000238C5569270>, <sqlite3.Row object at 0x00000238C5569330>, <sqlite3.Row object at 0x00000238C5569410>, <sqlite3.Row object at 0x00000238C55694D0>, <sqlite3.Row object at 0x00000238C5569590>, <sqlite3.Row object at 0x00000238C5569650>, <sqlite3.Row object at 0x00000238C5569710>, <sqlite3.Row object at 0x00000238C55697D0>, <sqlite3.Row object at 0x00000238C5569890>, <sqlite3.Row object at 0x00000238C5569950>, <sqlite3.Row object at 0x00000238C5569A10>, <sqlite3.Row object at 0x00000238C5569AD0>, <sqlite3.Row object at 0x00000238C5569B90>, <sqlite3.Row object at 0x00000238C5569C50>, <sqlite3.Row object at 0x00000238C5569D10>, <sqlite3.Row object at 0x00000238C5569DD0>, <sqlite3.Row object at 0x00000238C5569E90>, <sqlite3.Row object at 0x00000238C5565050>, <sqlite3.Row object at 0x00000238C5565110>, <sqlite3.Row object at 0x00000238C55651D0>, <sqlite3.Row object at 0x00000238C5565290>, <sqlite3.Row object at 0x00000238C5565350>, <sqlite3.Row object at 0x00000238C5565410>, <sqlite3.Row object at 0x00000238C55654D0>, <sqlite3.Row object at 0x00000238C5565590>, <sqlite3.Row object at 0x00000238C5565650>, <sqlite3.Row object at 0x00000238C5565710>, <sqlite3.Row object at 0x00000238C55657D0>, <sqlite3.Row object at 0x00000238C5565890>, <sqlite3.Row object at 0x00000238C5565950>, <sqlite3.Row object at 0x00000238C5565A10>, <sqlite3.Row object at 0x00000238C5565AD0>, <sqlite3.Row object at 0x00000238C5565C50>, <sqlite3.Row object at 0x00000238C5565CD0>, <sqlite3.Row object at 0x00000238C5565D10>, <sqlite3.Row object at 0x00000238C5565DD0>, <sqlite3.Row object at 0x00000238C5565E90>, <sqlite3.Row object at 0x00000238C5565F50>, <sqlite3.Row object at 0x00000238C554FE90>, <sqlite3.Row object at 0x00000238C554FF50>, <sqlite3.Row object at 0x00000238C554FF70>, <sqlite3.Row object at 0x00000238C554F030>, <sqlite3.Row object at 0x00000238C554F0F0>, <sqlite3.Row object at 0x00000238C554F1D0>, <sqlite3.Row object at 0x00000238C554F270>, <sqlite3.Row object at 0x00000238C554F330>, <sqlite3.Row object at 0x00000238C554F3F0>, <sqlite3.Row object at 0x00000238C554F4B0>, <sqlite3.Row object at 0x00000238C554F570>, <sqlite3.Row object at 0x00000238C554F630>, <sqlite3.Row object at 0x00000238C554F6F0>, <sqlite3.Row object at 0x00000238C554F7B0>, <sqlite3.Row object at 0x00000238C554F870>, <sqlite3.Row object at 0x00000238C554F930>, <sqlite3.Row object at 0x00000238C554F9F0>, <sqlite3.Row object at 0x00000238C554FAB0>, <sqlite3.Row object at 0x00000238C554FB70>, <sqlite3.Row object at 0x00000238C554FC30>, <sqlite3.Row object at 0x00000238C554FCF0>, <sqlite3.Row object at 0x00000238C5533510>, <sqlite3.Row object at 0x00000238C55335B0>, <sqlite3.Row object at 0x00000238C55336B0>, <sqlite3.Row object at 0x00000238C5533770>, <sqlite3.Row object at 0x00000238C5533610>, <sqlite3.Row object at 0x00000238C5533990>, <sqlite3.Row object at 0x00000238C5533A30>, <sqlite3.Row object at 0x00000238C5533A50>, <sqlite3.Row object at 0x00000238C5533B10>, <sqlite3.Row object at 0x00000238C5533BD0>, <sqlite3.Row object at 0x00000238C5533C90>, <sqlite3.Row object at 0x00000238C5533D50>, <sqlite3.Row object at 0x00000238C5533E10>, <sqlite3.Row object at 0x00000238C5533ED0>], 64: [<sqlite3.Row object at 0x00000238C5533EF0>, <sqlite3.Row object at 0x00000238C5533030>, <sqlite3.Row object at 0x00000238C5533150>, <sqlite3.Row object at 0x00000238C5533170>, <sqlite3.Row object at 0x00000238C5533250>, <sqlite3.Row object at 0x00000238C5533090>, <sqlite3.Row object at 0x00000238C5533390>, <sqlite3.Row object at 0x00000238C5533470>, <sqlite3.Row object at 0x00000238C5538070>, <sqlite3.Row object at 0x00000238C5538150>, <sqlite3.Row object at 0x00000238C5538210>, <sqlite3.Row object at 0x00000238C5538290>, <sqlite3.Row object at 0x00000238C5538370>, <sqlite3.Row object at 0x00000238C5538430>, <sqlite3.Row object at 0x00000238C55384F0>, <sqlite3.Row object at 0x00000238C55385D0>, <sqlite3.Row object at 0x00000238C5538690>, <sqlite3.Row object at 0x00000238C5538750>, <sqlite3.Row object at 0x00000238C5538830>, <sqlite3.Row object at 0x00000238C55388F0>, <sqlite3.Row object at 0x00000238C55389D0>, <sqlite3.Row object at 0x00000238C5538A90>, <sqlite3.Row object at 0x00000238C5538B70>, <sqlite3.Row object at 0x00000238C5538C30>, <sqlite3.Row object at 0x00000238C5538CF0>, <sqlite3.Row object at 0x00000238C5538DB0>, <sqlite3.Row object at 0x00000238C5538E90>, <sqlite3.Row object at 0x00000238C5538F50>, <sqlite3.Row object at 0x00000238C5542070>, <sqlite3.Row object at 0x00000238C5542130>, <sqlite3.Row object at 0x00000238C55421F0>, <sqlite3.Row object at 0x00000238C55422D0>, <sqlite3.Row object at 0x00000238C5542390>, <sqlite3.Row object at 0x00000238C5542450>, <sqlite3.Row object at 0x00000238C5542510>, <sqlite3.Row object at 0x00000238C55425D0>, <sqlite3.Row object at 0x00000238C5542690>, <sqlite3.Row object at 0x00000238C5542750>, <sqlite3.Row object at 0x00000238C5542810>, <sqlite3.Row object at 0x00000238C55428D0>, <sqlite3.Row object at 0x00000238C5542990>, <sqlite3.Row object at 0x00000238C5542A50>, <sqlite3.Row object at 0x00000238C5542B10>, <sqlite3.Row object at 0x00000238C5542BD0>, <sqlite3.Row object at 0x00000238C5542C90>, <sqlite3.Row object at 0x00000238C5542D50>, <sqlite3.Row object at 0x00000238C5542E10>, <sqlite3.Row object at 0x00000238C5542ED0>, <sqlite3.Row object at 0x00000238C5542F90>, <sqlite3.Row object at 0x00000238C55EF090>, <sqlite3.Row object at 0x00000238C55EF150>, <sqlite3.Row object at 0x00000238C55EF210>, <sqlite3.Row object at 0x00000238C55EF2D0>, <sqlite3.Row object at 0x00000238C55EF390>, <sqlite3.Row object at 0x00000238C55EF450>, <sqlite3.Row object at 0x00000238C55EF510>, <sqlite3.Row object at 0x00000238C55EF5D0>, <sqlite3.Row object at 0x00000238C55EF690>, <sqlite3.Row object at 0x00000238C55EF750>, <sqlite3.Row object at 0x00000238C55EF810>, <sqlite3.Row object at 0x00000238C55EF8D0>, <sqlite3.Row object at 0x00000238C55EF990>, <sqlite3.Row object at 0x00000238C55EFA50>, <sqlite3.Row object at 0x00000238C55EFB10>, <sqlite3.Row object at 0x00000238C55EFBD0>, <sqlite3.Row object at 0x00000238C55EFC90>, <sqlite3.Row object at 0x00000238C55EFD50>, <sqlite3.Row object at 0x00000238C55EFE10>, <sqlite3.Row object at 0x00000238C55EFED0>, <sqlite3.Row object at 0x00000238C55EFF90>, <sqlite3.Row object at 0x00000238C55E6090>, <sqlite3.Row object at 0x00000238C55E6150>, <sqlite3.Row object at 0x00000238C55E6210>, <sqlite3.Row object at 0x00000238C55E62D0>, <sqlite3.Row object at 0x00000238C55E6350>, <sqlite3.Row object at 0x00000238C55E6410>, <sqlite3.Row object at 0x00000238C55E64D0>, <sqlite3.Row object at 0x00000238C55E6590>, <sqlite3.Row object at 0x00000238C55E6650>, <sqlite3.Row object at 0x00000238C55E6710>, <sqlite3.Row object at 0x00000238C55E67D0>, <sqlite3.Row object at 0x00000238C55E6890>, <sqlite3.Row object at 0x00000238C55E6950>, <sqlite3.Row object at 0x00000238C55E6A10>, <sqlite3.Row object at 0x00000238C55E6AD0>, <sqlite3.Row object at 0x00000238C55E6B90>, <sqlite3.Row object at 0x00000238C55E6C50>, <sqlite3.Row object at 0x00000238C55E6D10>, <sqlite3.Row object at 0x00000238C55E6DD0>, <sqlite3.Row object at 0x00000238C55E6E90>, <sqlite3.Row object at 0x00000238C55E6F50>, <sqlite3.Row object at 0x00000238C55D8050>, <sqlite3.Row object at 0x00000238C55D8110>], 65: [<sqlite3.Row object at 0x00000238C55D8170>, <sqlite3.Row object at 0x00000238C55D8230>, <sqlite3.Row object at 0x00000238C55D8310>, <sqlite3.Row object at 0x00000238C55D8390>, <sqlite3.Row object at 0x00000238C55D8450>, <sqlite3.Row object at 0x00000238C55D8210>, <sqlite3.Row object at 0x00000238C55D85B0>, <sqlite3.Row object at 0x00000238C55D8650>, <sqlite3.Row object at 0x00000238C55D8730>, <sqlite3.Row object at 0x00000238C55D87F0>, <sqlite3.Row object at 0x00000238C55D88B0>, <sqlite3.Row object at 0x00000238C55D8970>, <sqlite3.Row object at 0x00000238C55D8A10>, <sqlite3.Row object at 0x00000238C55D8AD0>, <sqlite3.Row object at 0x00000238C55D8B90>, <sqlite3.Row object at 0x00000238C55D8C50>, <sqlite3.Row object at 0x00000238C55D8D10>, <sqlite3.Row object at 0x00000238C55D8DD0>, <sqlite3.Row object at 0x00000238C55D8E50>, <sqlite3.Row object at 0x00000238C55D8F10>, <sqlite3.Row object at 0x00000238C55D8FD0>, <sqlite3.Row object at 0x00000238C55E80D0>, <sqlite3.Row object at 0x00000238C55E8190>, <sqlite3.Row object at 0x00000238C55E8250>, <sqlite3.Row object at 0x00000238C55E8310>, <sqlite3.Row object at 0x00000238C55E83D0>, <sqlite3.Row object at 0x00000238C55E8490>, <sqlite3.Row object at 0x00000238C55E8550>, <sqlite3.Row object at 0x00000238C55E8610>, <sqlite3.Row object at 0x00000238C55E86D0>, <sqlite3.Row object at 0x00000238C55E8790>, <sqlite3.Row object at 0x00000238C55E8810>, <sqlite3.Row object at 0x00000238C55E88D0>, <sqlite3.Row object at 0x00000238C55E8990>, <sqlite3.Row object at 0x00000238C55E8A50>, <sqlite3.Row object at 0x00000238C55E8B10>, <sqlite3.Row object at 0x00000238C55E8BD0>, <sqlite3.Row object at 0x00000238C55E8C90>, <sqlite3.Row object at 0x00000238C55E8D50>, <sqlite3.Row object at 0x00000238C55E8E10>, <sqlite3.Row object at 0x00000238C55E8ED0>, <sqlite3.Row object at 0x00000238C55E8F90>, <sqlite3.Row object at 0x00000238C55D2090>, <sqlite3.Row object at 0x00000238C55D2150>, <sqlite3.Row object at 0x00000238C55D2210>, <sqlite3.Row object at 0x00000238C55D22D0>, <sqlite3.Row object at 0x00000238C55D2390>, <sqlite3.Row object at 0x00000238C55D2450>, <sqlite3.Row object at 0x00000238C55D2510>, <sqlite3.Row object at 0x00000238C55D25D0>, <sqlite3.Row object at 0x00000238C55D2690>, <sqlite3.Row object at 0x00000238C55D2750>, <sqlite3.Row object at 0x00000238C55D2810>, <sqlite3.Row object at 0x00000238C55D28D0>, <sqlite3.Row object at 0x00000238C55D2990>, <sqlite3.Row object at 0x00000238C55D2A50>, <sqlite3.Row object at 0x00000238C55D2B10>, <sqlite3.Row object at 0x00000238C55D2BD0>], 69: [<sqlite3.Row object at 0x00000238C55D2BF0>, <sqlite3.Row object at 0x00000238C55D2D10>, <sqlite3.Row object at 0x00000238C55D2DB0>, <sqlite3.Row object at 0x00000238C55D2E50>, <sqlite3.Row object at 0x00000238C55D2EF0>, <sqlite3.Row object at 0x00000238C55D2CF0>, <sqlite3.Row object at 0x00000238C55DC070>, <sqlite3.Row object at 0x00000238C55DC130>, <sqlite3.Row object at 0x00000238C55DC1F0>, <sqlite3.Row object at 0x00000238C55DC290>, <sqlite3.Row object at 0x00000238C55DC350>, <sqlite3.Row object at 0x00000238C55DC410>, <sqlite3.Row object at 0x00000238C55DC4D0>, <sqlite3.Row object at 0x00000238C55DC590>, <sqlite3.Row object at 0x00000238C55DC650>, <sqlite3.Row object at 0x00000238C55DC710>, <sqlite3.Row object at 0x00000238C55DC7D0>, <sqlite3.Row object at 0x00000238C55DC890>, <sqlite3.Row object at 0x00000238C55DC950>, <sqlite3.Row object at 0x00000238C55DCA10>, <sqlite3.Row object at 0x00000238C55DCAD0>, <sqlite3.Row object at 0x00000238C55DCB90>, <sqlite3.Row object at 0x00000238C55DCC50>, <sqlite3.Row object at 0x00000238C55DCD10>, <sqlite3.Row object at 0x00000238C55DCDD0>, <sqlite3.Row object at 0x00000238C55DCE90>, <sqlite3.Row object at 0x00000238C55DCF50>, <sqlite3.Row object at 0x00000238C55C6070>, <sqlite3.Row object at 0x00000238C55C6130>, <sqlite3.Row object at 0x00000238C55C61F0>, <sqlite3.Row object at 0x00000238C55C6270>, <sqlite3.Row object at 0x00000238C55C6330>, <sqlite3.Row object at 0x00000238C55C63F0>, <sqlite3.Row object at 0x00000238C55C64B0>, <sqlite3.Row object at 0x00000238C55C6570>, <sqlite3.Row object at 0x00000238C55C6630>, <sqlite3.Row object at 0x00000238C55C66F0>, <sqlite3.Row object at 0x00000238C55C67B0>, <sqlite3.Row object at 0x00000238C55C6870>], 70: [<sqlite3.Row object at 0x00000238C55C6890>, <sqlite3.Row object at 0x00000238C55C6970>, <sqlite3.Row object at 0x00000238C55C6A10>, <sqlite3.Row object at 0x00000238C55C6AB0>, <sqlite3.Row object at 0x00000238C55C6B10>, <sqlite3.Row object at 0x00000238C55C6950>, <sqlite3.Row object at 0x00000238C55C6C50>, <sqlite3.Row object at 0x00000238C55C6CF0>, <sqlite3.Row object at 0x00000238C55C6DB0>, <sqlite3.Row object at 0x00000238C55C6E70>, <sqlite3.Row object at 0x00000238C55C6F30>, <sqlite3.Row object at 0x00000238C55B8030>, <sqlite3.Row object at 0x00000238C55B80F0>, <sqlite3.Row object at 0x00000238C55B81B0>, <sqlite3.Row object at 0x00000238C55B8250>, <sqlite3.Row object at 0x00000238C55B8310>, <sqlite3.Row object at 0x00000238C55B83D0>, <sqlite3.Row object at 0x00000238C55B8490>, <sqlite3.Row object at 0x00000238C55B8550>, <sqlite3.Row object at 0x00000238C55B8610>, <sqlite3.Row object at 0x00000238C55B86B0>, <sqlite3.Row object at 0x00000238C55B8770>, <sqlite3.Row object at 0x00000238C55B8830>, <sqlite3.Row object at 0x00000238C55B88F0>, <sqlite3.Row object at 0x00000238C55B89B0>, <sqlite3.Row object at 0x00000238C55B8A70>, <sqlite3.Row object at 0x00000238C55B8B30>, <sqlite3.Row object at 0x00000238C55B8BF0>, <sqlite3.Row object at 0x00000238C55B8CB0>, <sqlite3.Row object at 0x00000238C55B8D70>, <sqlite3.Row object at 0x00000238C55B8E30>, <sqlite3.Row object at 0x00000238C55B8EF0>, <sqlite3.Row object at 0x00000238C55B8FB0>, <sqlite3.Row object at 0x00000238C55960B0>, <sqlite3.Row object at 0x00000238C5596170>, <sqlite3.Row object at 0x00000238C5596230>, <sqlite3.Row object at 0x00000238C55962F0>, <sqlite3.Row object at 0x00000238C55963B0>, <sqlite3.Row object at 0x00000238C5596470>, <sqlite3.Row object at 0x00000238C5596530>, <sqlite3.Row object at 0x00000238C55965F0>, <sqlite3.Row object at 0x00000238C55966B0>, <sqlite3.Row object at 0x00000238C5596770>, <sqlite3.Row object at 0x00000238C5596830>, <sqlite3.Row object at 0x00000238C55968F0>, <sqlite3.Row object at 0x00000238C55969B0>, <sqlite3.Row object at 0x00000238C5596A70>, <sqlite3.Row object at 0x00000238C5596B30>, <sqlite3.Row object at 0x00000238C5596BF0>, <sqlite3.Row object at 0x00000238C5596CB0>, <sqlite3.Row object at 0x00000238C5596D70>, <sqlite3.Row object at 0x00000238C5596E30>, <sqlite3.Row object at 0x00000238C5596EF0>, <sqlite3.Row object at 0x00000238C5596F70>, <sqlite3.Row object at 0x00000238C55A8070>, <sqlite3.Row object at 0x00000238C55A8130>, <sqlite3.Row object at 0x00000238C55A81F0>, <sqlite3.Row object at 0x00000238C55A82B0>, <sqlite3.Row object at 0x00000238C55A8370>, <sqlite3.Row object at 0x00000238C55A83F0>, <sqlite3.Row object at 0x00000238C55A84B0>, <sqlite3.Row object at 0x00000238C55A8570>, <sqlite3.Row object at 0x00000238C55A8630>, <sqlite3.Row object at 0x00000238C55A86F0>, <sqlite3.Row object at 0x00000238C55A87B0>, <sqlite3.Row object at 0x00000238C55A8870>, <sqlite3.Row object at 0x00000238C55A8930>, <sqlite3.Row object at 0x00000238C55A89F0>, <sqlite3.Row object at 0x00000238C55A8AB0>, <sqlite3.Row object at 0x00000238C55A8B70>, <sqlite3.Row object at 0x00000238C55A8C30>, <sqlite3.Row object at 0x00000238C55A8CF0>], 73: [<sqlite3.Row object at 0x00000238C55A8D10>, <sqlite3.Row object at 0x00000238C55A8E50>, <sqlite3.Row object at 0x00000238C55A8EF0>, <sqlite3.Row object at 0x00000238C55A8F90>, <sqlite3.Row object at 0x00000238C55A0090>, <sqlite3.Row object at 0x00000238C55A8E30>, <sqlite3.Row object at 0x00000238C55A01B0>, <sqlite3.Row object at 0x00000238C55A0250>, <sqlite3.Row object at 0x00000238C55A0310>, <sqlite3.Row object at 0x00000238C55A03D0>, <sqlite3.Row object at 0x00000238C55A0470>, <sqlite3.Row object at 0x00000238C55A0510>, <sqlite3.Row object at 0x00000238C55A05B0>, <sqlite3.Row object at 0x00000238C55A0630>, <sqlite3.Row object at 0x00000238C55A06D0>, <sqlite3.Row object at 0x00000238C55A0770>, <sqlite3.Row object at 0x00000238C55A0830>, <sqlite3.Row object at 0x00000238C55A08F0>, <sqlite3.Row object at 0x00000238C55A09B0>, <sqlite3.Row object at 0x00000238C55A0A50>, <sqlite3.Row object at 0x00000238C55A0B10>, <sqlite3.Row object at 0x00000238C55A0BD0>, <sqlite3.Row object at 0x00000238C55A0C90>, <sqlite3.Row object at 0x00000238C55A0D50>, <sqlite3.Row object at 0x00000238C55A0E10>, <sqlite3.Row object at 0x00000238C55A0ED0>, <sqlite3.Row object at 0x00000238C55A0F90>, <sqlite3.Row object at 0x00000238C55AA070>, <sqlite3.Row object at 0x00000238C55AA110>, <sqlite3.Row object at 0x00000238C55AA190>, <sqlite3.Row object at 0x00000238C55AA250>, <sqlite3.Row object at 0x00000238C55AA310>, <sqlite3.Row object at 0x00000238C55AA3F0>, <sqlite3.Row object at 0x00000238C55AA4B0>, <sqlite3.Row object at 0x00000238C55AA570>, <sqlite3.Row object at 0x00000238C55AA630>, <sqlite3.Row object at 0x00000238C55AA6F0>, <sqlite3.Row object at 0x00000238C55AA790>, <sqlite3.Row object at 0x00000238C55AA850>, <sqlite3.Row object at 0x00000238C55AA910>, <sqlite3.Row object at 0x00000238C55AA9D0>, <sqlite3.Row object at 0x00000238C55AAA90>, <sqlite3.Row object at 0x00000238C55AAB70>, <sqlite3.Row object at 0x00000238C55AAC30>, <sqlite3.Row object at 0x00000238C55AACD0>, <sqlite3.Row object at 0x00000238C55AAD90>, <sqlite3.Row object at 0x00000238C55AAE50>, <sqlite3.Row object at 0x00000238C55AAF10>, <sqlite3.Row object at 0x00000238C557C030>, <sqlite3.Row object at 0x00000238C557C0F0>, <sqlite3.Row object at 0x00000238C557C1B0>, <sqlite3.Row object at 0x00000238C557C250>, <sqlite3.Row object at 0x00000238C557C310>, <sqlite3.Row object at 0x00000238C557C3F0>, <sqlite3.Row object at 0x00000238C557C4B0>, <sqlite3.Row object at 0x00000238C557C550>, <sqlite3.Row object at 0x00000238C557C610>, <sqlite3.Row object at 0x00000238C557C6D0>, <sqlite3.Row object at 0x00000238C557C7B0>, <sqlite3.Row object at 0x00000238C557C870>, <sqlite3.Row object at 0x00000238C557C930>, <sqlite3.Row object at 0x00000238C557C9F0>, <sqlite3.Row object at 0x00000238C557CAB0>, <sqlite3.Row object at 0x00000238C557CB70>, <sqlite3.Row object at 0x00000238C557CC30>, <sqlite3.Row object at 0x00000238C557CCF0>, <sqlite3.Row object at 0x00000238C557CDB0>, <sqlite3.Row object at 0x00000238C557CE70>, <sqlite3.Row object at 0x00000238C557CF30>, <sqlite3.Row object at 0x00000238C5586050>, <sqlite3.Row object at 0x00000238C55860D0>, <sqlite3.Row object at 0x00000238C5586190>, <sqlite3.Row object at 0x00000238C5586250>, <sqlite3.Row object at 0x00000238C5586310>, <sqlite3.Row object at 0x00000238C55863D0>, <sqlite3.Row object at 0x00000238C5586470>, <sqlite3.Row object at 0x00000238C5586530>, <sqlite3.Row object at 0x00000238C55865F0>, <sqlite3.Row object at 0x00000238C55866B0>, <sqlite3.Row object at 0x00000238C5586770>, <sqlite3.Row object at 0x00000238C5586830>, <sqlite3.Row object at 0x00000238C55868F0>, <sqlite3.Row object at 0x00000238C55869B0>, <sqlite3.Row object at 0x00000238C5586A90>, <sqlite3.Row object at 0x00000238C5586B50>, <sqlite3.Row object at 0x00000238C5586C10>, <sqlite3.Row object at 0x00000238C5586CF0>, <sqlite3.Row object at 0x00000238C5586DB0>, <sqlite3.Row object at 0x00000238C5586E70>, <sqlite3.Row object at 0x00000238C5586F30>, <sqlite3.Row object at 0x00000238C5589030>, <sqlite3.Row object at 0x00000238C55890F0>, <sqlite3.Row object at 0x00000238C55891B0>, <sqlite3.Row object at 0x00000238C5589270>, <sqlite3.Row object at 0x00000238C5589330>, <sqlite3.Row object at 0x00000238C55893F0>, <sqlite3.Row object at 0x00000238C55894B0>, <sqlite3.Row object at 0x00000238C5589570>, <sqlite3.Row object at 0x00000238C5589630>, <sqlite3.Row object at 0x00000238C55896F0>, <sqlite3.Row object at 0x00000238C55897B0>, <sqlite3.Row object at 0x00000238C5589870>, <sqlite3.Row object at 0x00000238C5589930>, <sqlite3.Row object at 0x00000238C55899F0>, <sqlite3.Row object at 0x00000238C5589AB0>, <sqlite3.Row object at 0x00000238C5589B70>, <sqlite3.Row object at 0x00000238C5589C30>, <sqlite3.Row object at 0x00000238C5589CF0>, <sqlite3.Row object at 0x00000238C5589DB0>, <sqlite3.Row object at 0x00000238C5589E70>, <sqlite3.Row object at 0x00000238C5589F30>, <sqlite3.Row object at 0x00000238C5590050>, <sqlite3.Row object at 0x00000238C5590110>, <sqlite3.Row object at 0x00000238C55901D0>, <sqlite3.Row object at 0x00000238C5590290>, <sqlite3.Row object at 0x00000238C5590350>, <sqlite3.Row object at 0x00000238C5590410>, <sqlite3.Row object at 0x00000238C55904D0>, <sqlite3.Row object at 0x00000238C5590590>, <sqlite3.Row object at 0x00000238C5590650>, <sqlite3.Row object at 0x00000238C5590710>, <sqlite3.Row object at 0x00000238C5590790>, <sqlite3.Row object at 0x00000238C5590850>, <sqlite3.Row object at 0x00000238C5590910>, <sqlite3.Row object at 0x00000238C55909D0>, <sqlite3.Row object at 0x00000238C5590A90>, <sqlite3.Row object at 0x00000238C5590B50>, <sqlite3.Row object at 0x00000238C5590C10>, <sqlite3.Row object at 0x00000238C5590CD0>, <sqlite3.Row object at 0x00000238C5590D90>, <sqlite3.Row object at 0x00000238C5590E50>, <sqlite3.Row object at 0x00000238C5590F10>, <sqlite3.Row object at 0x00000238C5590FD0>, <sqlite3.Row object at 0x00000238C55730D0>, <sqlite3.Row object at 0x00000238C5573190>, <sqlite3.Row object at 0x00000238C5573250>, <sqlite3.Row object at 0x00000238C5573310>], 74: [<sqlite3.Row object at 0x00000238C5573330>, <sqlite3.Row object at 0x00000238C55733D0>, <sqlite3.Row object at 0x00000238C55734B0>, <sqlite3.Row object at 0x00000238C5573550>, <sqlite3.Row object at 0x00000238C5573610>, <sqlite3.Row object at 0x00000238C5573390>, <sqlite3.Row object at 0x00000238C5573730>, <sqlite3.Row object at 0x00000238C55737D0>, <sqlite3.Row object at 0x00000238C5573870>, <sqlite3.Row object at 0x00000238C5573910>, <sqlite3.Row object at 0x00000238C55739B0>, <sqlite3.Row object at 0x00000238C5573A70>, <sqlite3.Row object at 0x00000238C5573B30>, <sqlite3.Row object at 0x00000238C5573BD0>, <sqlite3.Row object at 0x00000238C5573C90>, <sqlite3.Row object at 0x00000238C5573D50>, <sqlite3.Row object at 0x00000238C5573DF0>, <sqlite3.Row object at 0x00000238C5573E90>, <sqlite3.Row object at 0x00000238C5573F30>, <sqlite3.Row object at 0x00000238C5573FD0>, <sqlite3.Row object at 0x00000238C58010D0>, <sqlite3.Row object at 0x00000238C5801170>, <sqlite3.Row object at 0x00000238C5801210>, <sqlite3.Row object at 0x00000238C58012B0>, <sqlite3.Row object at 0x00000238C5801350>, <sqlite3.Row object at 0x00000238C5801410>, <sqlite3.Row object at 0x00000238C58014D0>, <sqlite3.Row object at 0x00000238C5801530>, <sqlite3.Row object at 0x00000238C58015D0>, <sqlite3.Row object at 0x00000238C5801670>, <sqlite3.Row object at 0x00000238C5801730>, <sqlite3.Row object at 0x00000238C58017D0>, <sqlite3.Row object at 0x00000238C5801870>, <sqlite3.Row object at 0x00000238C5801910>, <sqlite3.Row object at 0x00000238C58019F0>, <sqlite3.Row object at 0x00000238C5801A90>, <sqlite3.Row object at 0x00000238C5801B50>, <sqlite3.Row object at 0x00000238C5801C10>, <sqlite3.Row object at 0x00000238C5801CD0>, <sqlite3.Row object at 0x00000238C5801D90>, <sqlite3.Row object at 0x00000238C5801E50>, <sqlite3.Row object at 0x00000238C5801F10>, <sqlite3.Row object at 0x00000238C5801FD0>, <sqlite3.Row object at 0x00000238C58040B0>, <sqlite3.Row object at 0x00000238C5804170>, <sqlite3.Row object at 0x00000238C5804230>, <sqlite3.Row object at 0x00000238C58042F0>, <sqlite3.Row object at 0x00000238C58043B0>, <sqlite3.Row object at 0x00000238C5804470>, <sqlite3.Row object at 0x00000238C5804530>, <sqlite3.Row object at 0x00000238C58045F0>, <sqlite3.Row object at 0x00000238C5804690>, <sqlite3.Row object at 0x00000238C5804750>, <sqlite3.Row object at 0x00000238C5804810>, <sqlite3.Row object at 0x00000238C58048D0>, <sqlite3.Row object at 0x00000238C5804990>, <sqlite3.Row object at 0x00000238C5804A30>, <sqlite3.Row object at 0x00000238C5804AD0>, <sqlite3.Row object at 0x00000238C5804B90>, <sqlite3.Row object at 0x00000238C5804C50>, <sqlite3.Row object at 0x00000238C5804D10>, <sqlite3.Row object at 0x00000238C5804DD0>, <sqlite3.Row object at 0x00000238C5804E90>, <sqlite3.Row object at 0x00000238C5804F50>, <sqlite3.Row object at 0x00000238C5808050>, <sqlite3.Row object at 0x00000238C5808110>, <sqlite3.Row object at 0x00000238C58081D0>, <sqlite3.Row object at 0x00000238C5808290>, <sqlite3.Row object at 0x00000238C5808330>, <sqlite3.Row object at 0x00000238C58083F0>, <sqlite3.Row object at 0x00000238C58084B0>, <sqlite3.Row object at 0x00000238C5808570>, <sqlite3.Row object at 0x00000238C5808630>, <sqlite3.Row object at 0x00000238C58086D0>, <sqlite3.Row object at 0x00000238C5808790>, <sqlite3.Row object at 0x00000238C5808850>, <sqlite3.Row object at 0x00000238C5808910>, <sqlite3.Row object at 0x00000238C58089D0>, <sqlite3.Row object at 0x00000238C5808A90>, <sqlite3.Row object at 0x00000238C5808B50>, <sqlite3.Row object at 0x00000238C5808C10>, <sqlite3.Row object at 0x00000238C5808CD0>, <sqlite3.Row object at 0x00000238C5808D90>, <sqlite3.Row object at 0x00000238C5808E50>, <sqlite3.Row object at 0x00000238C5808F10>, <sqlite3.Row object at 0x00000238C5808FD0>, <sqlite3.Row object at 0x00000238C580C0D0>, <sqlite3.Row object at 0x00000238C580C190>, <sqlite3.Row object at 0x00000238C580C250>, <sqlite3.Row object at 0x00000238C580C310>, <sqlite3.Row object at 0x00000238C580C3D0>, <sqlite3.Row object at 0x00000238C580C490>, <sqlite3.Row object at 0x00000238C580C550>, <sqlite3.Row object at 0x00000238C580C610>, <sqlite3.Row object at 0x00000238C580C6D0>, <sqlite3.Row object at 0x00000238C580C790>, <sqlite3.Row object at 0x00000238C580C850>, <sqlite3.Row object at 0x00000238C580C910>, <sqlite3.Row object at 0x00000238C580C9D0>, <sqlite3.Row object at 0x00000238C580CA90>, <sqlite3.Row object at 0x00000238C580CB50>, <sqlite3.Row object at 0x00000238C580CC10>, <sqlite3.Row object at 0x00000238C580CCD0>, <sqlite3.Row object at 0x00000238C580CD90>, <sqlite3.Row object at 0x00000238C580CE50>, <sqlite3.Row object at 0x00000238C580CF10>, <sqlite3.Row object at 0x00000238C580CFD0>, <sqlite3.Row object at 0x00000238C580F0D0>, <sqlite3.Row object at 0x00000238C580F190>, <sqlite3.Row object at 0x00000238C580F250>, <sqlite3.Row object at 0x00000238C580F310>, <sqlite3.Row object at 0x00000238C580F3D0>, <sqlite3.Row object at 0x00000238C580F490>, <sqlite3.Row object at 0x00000238C580F550>, <sqlite3.Row object at 0x00000238C580F610>, <sqlite3.Row object at 0x00000238C580F6D0>, <sqlite3.Row object at 0x00000238C580F790>], 79: [<sqlite3.Row object at 0x00000238C580F7B0>, <sqlite3.Row object at 0x00000238C580F8B0>, <sqlite3.Row object at 0x00000238C580F970>, <sqlite3.Row object at 0x00000238C580FA10>, <sqlite3.Row object at 0x00000238C580FAD0>, <sqlite3.Row object at 0x00000238C580F890>, <sqlite3.Row object at 0x00000238C580FC30>, <sqlite3.Row object at 0x00000238C580FCB0>, <sqlite3.Row object at 0x00000238C580FD70>, <sqlite3.Row object at 0x00000238C580FE30>, <sqlite3.Row object at 0x00000238C580FEF0>, <sqlite3.Row object at 0x00000238C580FFB0>, <sqlite3.Row object at 0x00000238C58150B0>, <sqlite3.Row object at 0x00000238C5815170>, <sqlite3.Row object at 0x00000238C5815230>, <sqlite3.Row object at 0x00000238C58152F0>, <sqlite3.Row object at 0x00000238C58153B0>, <sqlite3.Row object at 0x00000238C5815470>, <sqlite3.Row object at 0x00000238C5815530>, <sqlite3.Row object at 0x00000238C58155F0>, <sqlite3.Row object at 0x00000238C58156B0>, <sqlite3.Row object at 0x00000238C5815770>, <sqlite3.Row object at 0x00000238C5815830>, <sqlite3.Row object at 0x00000238C58158F0>, <sqlite3.Row object at 0x00000238C58159B0>, <sqlite3.Row object at 0x00000238C5815A70>, <sqlite3.Row object at 0x00000238C5815AF0>, <sqlite3.Row object at 0x00000238C5815BB0>, <sqlite3.Row object at 0x00000238C5815C70>, <sqlite3.Row object at 0x00000238C5815D30>, <sqlite3.Row object at 0x00000238C5815DF0>, <sqlite3.Row object at 0x00000238C5815EB0>, <sqlite3.Row object at 0x00000238C5815F70>, <sqlite3.Row object at 0x00000238C5818070>, <sqlite3.Row object at 0x00000238C5818130>, <sqlite3.Row object at 0x00000238C58181F0>, <sqlite3.Row object at 0x00000238C58182B0>, <sqlite3.Row object at 0x00000238C5818370>, <sqlite3.Row object at 0x00000238C5818430>, <sqlite3.Row object at 0x00000238C58184F0>, <sqlite3.Row object at 0x00000238C58185B0>, <sqlite3.Row object at 0x00000238C5818670>, <sqlite3.Row object at 0x00000238C5818730>, <sqlite3.Row object at 0x00000238C58187F0>, <sqlite3.Row object at 0x00000238C58188B0>, <sqlite3.Row object at 0x00000238C5818970>, <sqlite3.Row object at 0x00000238C5818A30>, <sqlite3.Row object at 0x00000238C5818AF0>, <sqlite3.Row object at 0x00000238C5818BB0>, <sqlite3.Row object at 0x00000238C5818C70>, <sqlite3.Row object at 0x00000238C5818D30>, <sqlite3.Row object at 0x00000238C5818DF0>, <sqlite3.Row object at 0x00000238C5818EB0>, <sqlite3.Row object at 0x00000238C5818F70>, <sqlite3.Row object at 0x00000238C581C070>, <sqlite3.Row object at 0x00000238C581C130>, <sqlite3.Row object at 0x00000238C581C1F0>, <sqlite3.Row object at 0x00000238C581C2B0>, <sqlite3.Row object at 0x00000238C581C370>, <sqlite3.Row object at 0x00000238C581C430>, <sqlite3.Row object at 0x00000238C581C4F0>, <sqlite3.Row object at 0x00000238C581C5B0>, <sqlite3.Row object at 0x00000238C581C670>, <sqlite3.Row object at 0x00000238C581C730>, <sqlite3.Row object at 0x00000238C581C7F0>, <sqlite3.Row object at 0x00000238C581C8B0>, <sqlite3.Row object at 0x00000238C581C970>, <sqlite3.Row object at 0x00000238C581CA30>, <sqlite3.Row object at 0x00000238C581CAF0>, <sqlite3.Row object at 0x00000238C581CBB0>, <sqlite3.Row object at 0x00000238C581CC70>, <sqlite3.Row object at 0x00000238C581CD30>, <sqlite3.Row object at 0x00000238C581CDF0>, <sqlite3.Row object at 0x00000238C581CEB0>, <sqlite3.Row object at 0x00000238C581CF70>, <sqlite3.Row object at 0x00000238C5820070>, <sqlite3.Row object at 0x00000238C5820130>, <sqlite3.Row object at 0x00000238C58201F0>, <sqlite3.Row object at 0x00000238C58202B0>], 89: [<sqlite3.Row object at 0x00000238C58202D0>, <sqlite3.Row object at 0x00000238C5820390>, <sqlite3.Row object at 0x00000238C5820430>, <sqlite3.Row object at 0x00000238C58204D0>, <sqlite3.Row object at 0x00000238C5820570>, <sqlite3.Row object at 0x00000238C5820370>, <sqlite3.Row object at 0x00000238C58206B0>, <sqlite3.Row object at 0x00000238C5820770>, <sqlite3.Row object at 0x00000238C5820810>, <sqlite3.Row object at 0x00000238C58208D0>, <sqlite3.Row object at 0x00000238C5820990>, <sqlite3.Row object at 0x00000238C5820A50>, <sqlite3.Row object at 0x00000238C5820AF0>, <sqlite3.Row object at 0x00000238C5820B90>, <sqlite3.Row object at 0x00000238C5820C50>, <sqlite3.Row object at 0x00000238C5820D10>, <sqlite3.Row object at 0x00000238C5820DB0>, <sqlite3.Row object at 0x00000238C5820E50>, <sqlite3.Row object at 0x00000238C5820F10>, <sqlite3.Row object at 0x00000238C5820FD0>, <sqlite3.Row object at 0x00000238C58250B0>, <sqlite3.Row object at 0x00000238C5825170>, <sqlite3.Row object at 0x00000238C5825230>, <sqlite3.Row object at 0x00000238C58252F0>, <sqlite3.Row object at 0x00000238C58253B0>], 91: [<sqlite3.Row object at 0x00000238C58253D0>, <sqlite3.Row object at 0x00000238C58253F0>, <sqlite3.Row object at 0x00000238C5825510>, <sqlite3.Row object at 0x00000238C58255D0>, <sqlite3.Row object at 0x00000238C5825690>, <sqlite3.Row object at 0x00000238C553DFD0>, <sqlite3.Row object at 0x00000238C58257B0>, <sqlite3.Row object at 0x00000238C5825850>, <sqlite3.Row object at 0x00000238C58258F0>, <sqlite3.Row object at 0x00000238C58259B0>, <sqlite3.Row object at 0x00000238C5825A70>, <sqlite3.Row object at 0x00000238C5825B10>, <sqlite3.Row object at 0x00000238C5825BB0>, <sqlite3.Row object at 0x00000238C5825C70>, <sqlite3.Row object at 0x00000238C5825D30>, <sqlite3.Row object at 0x00000238C5825DD0>, <sqlite3.Row object at 0x00000238C5825E70>, <sqlite3.Row object at 0x00000238C5825F30>, <sqlite3.Row object at 0x00000238C5825FD0>, <sqlite3.Row object at 0x00000238C582D0B0>, <sqlite3.Row object at 0x00000238C582D150>, <sqlite3.Row object at 0x00000238C582D210>, <sqlite3.Row object at 0x00000238C582D2D0>, <sqlite3.Row object at 0x00000238C582D390>, <sqlite3.Row object at 0x00000238C582D450>, <sqlite3.Row object at 0x00000238C582D4F0>, <sqlite3.Row object at 0x00000238C582D5B0>, <sqlite3.Row object at 0x00000238C582D670>, <sqlite3.Row object at 0x00000238C582D730>, <sqlite3.Row object at 0x00000238C582D7D0>, <sqlite3.Row object at 0x00000238C582D870>, <sqlite3.Row object at 0x00000238C582D930>, <sqlite3.Row object at 0x00000238C582D9F0>, <sqlite3.Row object at 0x00000238C582DAB0>, <sqlite3.Row object at 0x00000238C582DB70>, <sqlite3.Row object at 0x00000238C582DC30>, <sqlite3.Row object at 0x00000238C582DCF0>, <sqlite3.Row object at 0x00000238C582DDB0>, <sqlite3.Row object at 0x00000238C582DE70>, <sqlite3.Row object at 0x00000238C582DF30>, <sqlite3.Row object at 0x00000238C5831030>, <sqlite3.Row object at 0x00000238C58310F0>, <sqlite3.Row object at 0x00000238C58311B0>, <sqlite3.Row object at 0x00000238C5831270>, <sqlite3.Row object at 0x00000238C5831330>], 92: [<sqlite3.Row object at 0x00000238C5831350>, <sqlite3.Row object at 0x00000238C5831430>, <sqlite3.Row object at 0x00000238C58314D0>, <sqlite3.Row object at 0x00000238C5831590>, <sqlite3.Row object at 0x00000238C5831630>, <sqlite3.Row object at 0x00000238C5831410>, <sqlite3.Row object at 0x00000238C5831750>, <sqlite3.Row object at 0x00000238C5831810>, <sqlite3.Row object at 0x00000238C58318B0>, <sqlite3.Row object at 0x00000238C5831970>, <sqlite3.Row object at 0x00000238C5831A30>, <sqlite3.Row object at 0x00000238C5831AD0>, <sqlite3.Row object at 0x00000238C5831B70>, <sqlite3.Row object at 0x00000238C5831C30>, <sqlite3.Row object at 0x00000238C5831CD0>, <sqlite3.Row object at 0x00000238C5831D70>, <sqlite3.Row object at 0x00000238C5831E30>, <sqlite3.Row object at 0x00000238C5831ED0>, <sqlite3.Row object at 0x00000238C5831F70>, <sqlite3.Row object at 0x00000238C5836070>, <sqlite3.Row object at 0x00000238C5836110>, <sqlite3.Row object at 0x00000238C58361D0>, <sqlite3.Row object at 0x00000238C5836290>, <sqlite3.Row object at 0x00000238C5836350>, <sqlite3.Row object at 0x00000238C5836410>, <sqlite3.Row object at 0x00000238C58364D0>, <sqlite3.Row object at 0x00000238C5836590>, <sqlite3.Row object at 0x00000238C5836650>, <sqlite3.Row object at 0x00000238C5836710>, <sqlite3.Row object at 0x00000238C58367D0>, <sqlite3.Row object at 0x00000238C5836890>, <sqlite3.Row object at 0x00000238C5836950>, <sqlite3.Row object at 0x00000238C5836A10>, <sqlite3.Row object at 0x00000238C5836AD0>, <sqlite3.Row object at 0x00000238C5836B90>, <sqlite3.Row object at 0x00000238C5836C50>, <sqlite3.Row object at 0x00000238C5836D10>, <sqlite3.Row object at 0x00000238C5836DD0>, <sqlite3.Row object at 0x00000238C5836E90>, <sqlite3.Row object at 0x00000238C5836F50>]}\n"
     ]
    }
   ],
   "source": [
    "def get_papers_author_info(author_paper_data):\n",
    "    \"\"\"\n",
    "    功能：\n",
    "        根据author_paper_data获得papers数据\n",
    "    参数：\n",
    "        author_paper_data包含作者的authorID号和论文数量\n",
    "    返回值：\n",
    "        将authorID作为键，authorID对应的papers数据作为值，以字典的形式返回数据\n",
    "    \"\"\"   \n",
    "    author_papers_dict = {}\n",
    "    # 根据get_paper_author_info方法获得authorID对应的paper数据，将authorID作为键，authorID对应的papers数据作为值，以键值对的形式存储数据\n",
    "    n = len(author_paper_data)\n",
    "    for i in range(n):\n",
    "        list2=[]\n",
    "        author_id = author_paper_data[i][0]\n",
    "        paper_num = author_paper_data[i][1]\n",
    "        paper_author_info = cur.execute(\"select * from Papers as paper inner join Paper_Authors as paper_author on paper.paperID==paper_author.paperID and paper_author.authorID='%d'\"%author_id)\n",
    "        author_papers_dict[author_id] = paper_author_info.fetchall()\n",
    "        # TODO\n",
    "        # 依据每个作者的author_id，判断得到的author_papers_dict[author_id]的论文数量和文件导入的论文数量是否相等，\n",
    "        # 若是相等，则打印作者的ID号列表和论文数量,eg.\"authorID号是：5,论文数量paper_num是：30\"，否则结束循环\n",
    "        for i in author_papers_dict[author_id]: \n",
    "            list2.append(i['title'])\n",
    "        if len(list2)==paper_num:\n",
    "            print(\"authorID号是:\",author_id,\"论文数量paper_num是:\",paper_num)\n",
    "        else:\n",
    "            break \n",
    "    print(author_papers_dict)\n",
    "    return author_papers_dict\n",
    "# author_paper_data包含了作者的ID号和论文数量\n",
    "author_papers_dict=get_papers_author_info(author_paper_data)"
   ]
  },
  {
   "cell_type": "markdown",
   "metadata": {},
   "source": [
    "### 对作者发表论文的浏览次数进行统计分析\n",
    "每个作者会发表多个论文，每个论文被浏览的次数一般不同，现在对浏览次数进行求和、均值、最大值、最小值操作，以对每个authorID的论文的浏览次数进行统计分析。"
   ]
  },
  {
   "cell_type": "code",
   "execution_count": 52,
   "metadata": {
    "scrolled": false
   },
   "outputs": [
    {
     "data": {
      "text/plain": [
       "[[21262, 708.7333333333333, 2008, 77],\n",
       " [104646, 1395.28, 4436, 294],\n",
       " [50628, 1875.111111111111, 8449, 153],\n",
       " [104357, 4537.260869565217, 24208, 703],\n",
       " [46400, 1718.5185185185185, 3912, 150],\n",
       " [45794, 2180.6666666666665, 5259, 336],\n",
       " [174760, 4064.186046511628, 9005, 639],\n",
       " [39357, 855.5869565217391, 3076, 77],\n",
       " [33246, 831.15, 3193, 77],\n",
       " [226309, 1870.3223140495868, 7739, 102],\n",
       " [333162, 3582.3870967741937, 17333, 413],\n",
       " [77045, 1328.3620689655172, 11303, 157],\n",
       " [47105, 1207.820512820513, 4533, 117],\n",
       " [92540, 1285.2777777777778, 5545, 117],\n",
       " [211691, 1545.1897810218977, 9509, 127],\n",
       " [78072, 667.2820512820513, 3793, 67],\n",
       " [122582, 1551.6708860759493, 5184, 144],\n",
       " [11589, 463.56, 2315, 112],\n",
       " [25020, 556.0, 1928, 112],\n",
       " [21808, 545.2, 1525, 112]]"
      ]
     },
     "execution_count": 52,
     "metadata": {},
     "output_type": "execute_result"
    }
   ],
   "source": [
    "def process_view_num(authors_id,author_papers_dict):\n",
    "    \"\"\"\n",
    "    功能：\n",
    "        根据authorID对每个作者的浏览次数进行求和，均值，最大值，最小值操作\n",
    "    参数：\n",
    "        authors_id：作者列表数据，包含作者的authorID号\n",
    "        author_papers_dict：包含了每个作者的paper数据，键为authorID，值为paper数据\n",
    "    返回值：\n",
    "        sum_mean_max_min_view是一个二维数据结构，行数据是对浏览次数依次按照求和、均值、最大值、最小值的结果\n",
    "    \"\"\"   \n",
    "    sum_mean_max_min_view = []\n",
    "    viewslist=[]\n",
    "    # TODO\n",
    "    # 对authors_id进行遍历，根据authorID获得字典的值，即paper信息，然后使用\"views\"字段获得浏览次数，进而进行统计分析\n",
    "    for i in authors_id:\n",
    "        items=author_papers_dict[i]\n",
    "        list0=[]\n",
    "        for item in items:\n",
    "            list0.append(item['views'])\n",
    "        sum_views=sum(list0)\n",
    "        mean_views=sum(list0)/len(list0)\n",
    "        max_views=max(list0)\n",
    "        min_views=min(list0)\n",
    "        l0=[sum_views,mean_views,max_views,min_views]\n",
    "        sum_mean_max_min_view.append(l0)\n",
    "    return sum_mean_max_min_view\n",
    "\n",
    "#对论文被浏览次数计算和(sum_view)、均值(mean_view)、最大值(max_view)、最小值(min_view)\n",
    "views_lst = process_view_num(authors_id,author_papers_dict)\n",
    "views_lst"
   ]
  },
  {
   "cell_type": "markdown",
   "metadata": {},
   "source": [
    "### 对论文的发表日期进行分析"
   ]
  },
  {
   "cell_type": "markdown",
   "metadata": {},
   "source": [
    "以上对每个作者发表论文的浏览次数进行了统计分析，但是我们还期望了解关于每个作者发表论文日期的更多信息，而每个作者的论文的发表日期一般不同，现在我们对每个作者发表论文的publishonline日期进行分析。"
   ]
  },
  {
   "cell_type": "code",
   "execution_count": 77,
   "metadata": {},
   "outputs": [],
   "source": [
    "\n",
    "def get_max_publishonline(year_num_dict):\n",
    "    \"\"\"\n",
    "    功能：\n",
    "        计算论文数量最多的年份，当年份存在多个时，则保留最近的年份和对应的论文数量\n",
    "    参数：\n",
    "        year_num_dict：{年份：论文数量}\n",
    "    返回值：\n",
    "        以列表形式返回论文的数量最多的最近年份和对应的论文数量\n",
    "    \"\"\"\n",
    "    # 论文的最多数量\n",
    "    list6=[]\n",
    "    list5=list(year_num_dict.values())\n",
    "    max_year_num = max(list5)\n",
    "    # 论文数量最多的年份\n",
    "    num=list5.count(max_year_num)\n",
    "    if num==1:\n",
    "        max_year = list(year_num_dict.keys())[list(year_num_dict.values()).index(max_year_num)]\n",
    "    # TODO\n",
    "    # 计算论文的最多数量，以及对应的最近年份\n",
    "    else:\n",
    "        for item in enumerate(list5):\n",
    "            if item[1]==max_year_num:\n",
    "                list6.append(item[0])\n",
    "        max_year=max([list(year_num_dict.keys())[i] for i in list6])         \n",
    "    return [max_year, max_year_num]"
   ]
  },
  {
   "cell_type": "code",
   "execution_count": 72,
   "metadata": {},
   "outputs": [],
   "source": [
    "def get_year_num_dict(year_pubonline):\n",
    "    # 以字典形式返回作者每年发表的论文数量，year_num_dict = {年份：论文数量}\n",
    "    year_num_only = np.unique(year_pubonline)\n",
    "    year_num_dict = {}\n",
    "    for year_num in year_num_only:\n",
    "        year_num_dict[year_num] = year_pubonline.count(year_num)\n",
    "    return year_num_dict"
   ]
  },
  {
   "cell_type": "markdown",
   "metadata": {},
   "source": [
    "得到发表最多论文的年份，及该年发表的论文数量，以字典形式dict_year_num返回"
   ]
  },
  {
   "cell_type": "code",
   "execution_count": 75,
   "metadata": {},
   "outputs": [],
   "source": [
    "def get_publishonline_year(author_id,author_papers_dict):  \n",
    "    \"\"\"\n",
    "    功能：\n",
    "        根据authorID，得到作者发表论文的年份\n",
    "    参数：\n",
    "        author_id：作者的authorID号\n",
    "        author_papers_dict：包含了每个作者的paper数据，键为authorID，值为paper数据\n",
    "    返回值：\n",
    "        得到作者发表论文的年份列表\n",
    "    \"\"\"   \n",
    "    # 年份列表\n",
    "    items=author_papers_dict[author_id]\n",
    "    year_pubonline = []\n",
    "    for item in items:\n",
    "        year_pubonline.append(item[10].split('-')[0])\n",
    "    # TODO\n",
    "    # 将发表日期进行数据转换，将得到的年份存储到年份列表中   \n",
    "       \n",
    "    return get_year_num_dict(year_pubonline)"
   ]
  },
  {
   "cell_type": "markdown",
   "metadata": {},
   "source": [
    "依据作者列表，计算作者每年发表的论文数量，得到论文数量最多的年份，当年份存在多个时，则获取最近的年份，同时，获取该年份对应的论文次数"
   ]
  },
  {
   "cell_type": "code",
   "execution_count": 78,
   "metadata": {},
   "outputs": [
    {
     "name": "stdout",
     "output_type": "stream",
     "text": [
      "[['2002', 4], ['2015', 8], ['2001', 4], ['1997', 4], ['1998', 5], ['2011', 5], ['2005', 6], ['2009', 5], ['2011', 4], ['2016', 9], ['2011', 9], ['2011', 7], ['2005', 4], ['2012', 6], ['2010', 10], ['2005', 11], ['2008', 8], ['1996', 6], ['2004', 6], ['1996', 6]]\n"
     ]
    }
   ],
   "source": [
    "year_num_lst = []\n",
    "for author_id in authors_id:\n",
    "    year_num = get_publishonline_year(author_id,author_papers_dict)\n",
    "    year_num_lst.append(get_max_publishonline(year_num))\n",
    "# year_num_lst是存储了年份和论文数量的列表\n",
    "# year_num_lst的每个元素是一个列表，这个列表为[publish_max_year,publish_year_num]，其中，第一个元素是authorID对应的论文数量最多的最近年份，第二个元素是论文的数量\n",
    "print(year_num_lst)"
   ]
  },
  {
   "cell_type": "markdown",
   "metadata": {},
   "source": [
    "### 合并数据，存入文件"
   ]
  },
  {
   "cell_type": "code",
   "execution_count": 88,
   "metadata": {},
   "outputs": [
    {
     "name": "stdout",
     "output_type": "stream",
     "text": [
      "[[5, 30, 21262, 708.7333333333333, 2008, 77, '2002', 4], [18, 75, 104646, 1395.28, 4436, 294, '2015', 8], [20, 27, 50628, 1875.111111111111, 8449, 153, '2001', 4], [22, 23, 104357, 4537.260869565217, 24208, 703, '1997', 4], [26, 27, 46400, 1718.5185185185185, 3912, 150, '1998', 5], [29, 21, 45794, 2180.6666666666665, 5259, 336, '2011', 5], [31, 43, 174760, 4064.186046511628, 9005, 639, '2005', 6], [48, 46, 39357, 855.5869565217391, 3076, 77, '2009', 5], [53, 40, 33246, 831.15, 3193, 77, '2011', 4], [57, 121, 226309, 1870.3223140495868, 7739, 102, '2016', 9], [64, 93, 333162, 3582.3870967741937, 17333, 413, '2011', 9], [65, 58, 77045, 1328.3620689655172, 11303, 157, '2011', 7], [69, 39, 47105, 1207.820512820513, 4533, 117, '2005', 4], [70, 72, 92540, 1285.2777777777778, 5545, 117, '2012', 6], [73, 137, 211691, 1545.1897810218977, 9509, 127, '2010', 10], [74, 117, 78072, 667.2820512820513, 3793, 67, '2005', 11], [79, 79, 122582, 1551.6708860759493, 5184, 144, '2008', 8], [89, 25, 11589, 463.56, 2315, 112, '1996', 6], [91, 45, 25020, 556.0, 1928, 112, '2004', 6], [92, 40, 21808, 545.2, 1525, 112, '1996', 6]]\n"
     ]
    }
   ],
   "source": [
    "file_path = './dataFile/author_paper_data.txt'\n",
    "l7=[]\n",
    "for i,j,k in zip(author_paper_data,views_lst,year_num_lst):\n",
    "    l=i+j+k\n",
    "    l7.append(l)\n",
    "print(l7)\n",
    "with open(file_path,'w') as fn:\n",
    "    # TODO\n",
    "    # 根据authors_id列表的authorID号，将得到的数据列表author_paper_data(author_id,papers_num)、\n",
    "    # views_lst(sum_view,mean_view,max_view,min_view)、year_num_lst(publish_max_year,publish_year_num)进行合并，将合并后的数据进行输出\n",
    "    # 并且，将合并后的数据存入txt文件\n",
    "    for i in l7:\n",
    "        fn.write(str(i)+'\\n')    "
   ]
  },
  {
   "cell_type": "markdown",
   "metadata": {},
   "source": [
    "### 关闭数据库"
   ]
  },
  {
   "cell_type": "code",
   "execution_count": 89,
   "metadata": {},
   "outputs": [],
   "source": [
    "conn.commit()\n",
    "conn.close()"
   ]
  },
  {
   "cell_type": "code",
   "execution_count": null,
   "metadata": {},
   "outputs": [],
   "source": []
  }
 ],
 "metadata": {
  "kernelspec": {
   "display_name": "Python 3",
   "language": "python",
   "name": "python3"
  },
  "language_info": {
   "codemirror_mode": {
    "name": "ipython",
    "version": 3
   },
   "file_extension": ".py",
   "mimetype": "text/x-python",
   "name": "python",
   "nbconvert_exporter": "python",
   "pygments_lexer": "ipython3",
   "version": "3.6.5"
  }
 },
 "nbformat": 4,
 "nbformat_minor": 2
}
